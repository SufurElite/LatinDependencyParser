{
 "cells": [
  {
   "cell_type": "markdown",
   "id": "f05734b4",
   "metadata": {},
   "source": [
    "# Training a Latin SBERT model\n",
    "This notebook details the training of the Latin SBERT model to produce historical sentence embeddings. \n",
    "* Details on training an SBERT model can be found here: https://www.sbert.net/docs/training/overview.html"
   ]
  },
  {
   "cell_type": "code",
   "execution_count": 1,
   "id": "3ccf1ebc-399c-4bbe-af95-6fee68c80223",
   "metadata": {
    "tags": []
   },
   "outputs": [],
   "source": [
    "import numpy as np\n",
    "import os, re\n",
    "from sentence_transformers import SentenceTransformer, models\n",
    "import torch\n",
    "\n",
    "torch.cuda.empty_cache()\n",
    "device = torch.device(\"cuda\" if torch.cuda.is_available() else \"cpu\")"
   ]
  },
  {
   "cell_type": "code",
   "execution_count": 3,
   "id": "bf350fea-305e-4075-a9d5-65e4e4fc50e3",
   "metadata": {
    "tags": []
   },
   "outputs": [],
   "source": [
    "path_to_latin_bert_tokenizer = os.getcwd()+\"/src/utils/LatinBERT/\"\n",
    "path_to_latin_bert = os.getcwd()+\"/src/utils/LatinBERT/latin_bert/\""
   ]
  },
  {
   "cell_type": "code",
   "execution_count": 4,
   "id": "1e626627-e2e6-4e3d-8537-f84c798040ab",
   "metadata": {
    "tags": []
   },
   "outputs": [],
   "source": [
    "from src import data"
   ]
  },
  {
   "cell_type": "code",
   "execution_count": 5,
   "id": "3053aeec-4ab9-484e-b322-c7f8b8ce2a84",
   "metadata": {
    "tags": []
   },
   "outputs": [
    {
     "name": "stdout",
     "output_type": "stream",
     "text": [
      "Filename                       | Amount used | Amount Skipped\n",
      "=============================================================\n",
      "la_udante-ud-dev.conllu        :       376.0 :            1.0\n",
      "la_udante-ud-test.conllu       :       419.0 :            0.0\n",
      "la_udante-ud-train.conllu      :       926.0 :            0.0\n",
      "la_ittb-ud-dev.conllu          :      2101.0 :          155.0\n",
      "la_ittb-ud-test.conllu         :      2101.0 :          232.0\n",
      "la_ittb-ud-train.conllu        :     22775.0 :         1668.0\n",
      "la_llct-ud-dev.conllu          :       850.0 :           98.0\n",
      "la_llct-ud-test.conllu         :       884.0 :          154.0\n",
      "la_llct-ud-train.conllu        :      7289.0 :         1115.0\n",
      "la_proiel-ud-dev.conllu        :      1233.0 :           14.0\n",
      "la_proiel-ud-test.conllu       :      1260.0 :           30.0\n",
      "la_proiel-ud-train.conllu      :     16196.0 :          758.0\n",
      "la_perseus-ud-test.conllu      :       939.0 :            4.0\n",
      "la_perseus-ud-train.conllu     :      1334.0 :           10.0\n",
      "=============================================================\n",
      "Total unique data : 54444 | filtered out 4239\n",
      "=============================================================\n",
      "\n",
      "\n",
      "The Latin Age sentence distribution is as follows: \n",
      "{\n",
      "  \"Medieval\": 26642,\n",
      "  \"Late\": 8610,\n",
      "  \"Classical\": 19192\n",
      "}\n",
      "as a percentage:\n",
      "Medieval 0.4893468518110352\n",
      "Late 0.15814414811549482\n",
      "Classical 0.35250900007346997\n",
      "The Latin Age combo sentence distribution is as follows: \n",
      "('Classical', 'Medieval') 0.346\n",
      "('Medieval', 'Medieval') 0.23928\n",
      "('Classical', 'Classical') 0.12372\n",
      "('Classical', 'Late') 0.11278\n",
      "('Medieval', 'Late') 0.1532\n",
      "('Late', 'Late') 0.02502\n"
     ]
    }
   ],
   "source": [
    "training_data = data.prepare_data_for_sbert_training(os.path.join(os.getcwd(),\"data\"))"
   ]
  },
  {
   "cell_type": "code",
   "execution_count": 6,
   "id": "ee1b7d7e-4333-41ec-86a1-fb154d2bddf8",
   "metadata": {
    "tags": []
   },
   "outputs": [
    {
     "name": "stdout",
     "output_type": "stream",
     "text": [
      "50000\n",
      "<InputExample> label: 0.0, texts: et responderunt se nescire unde esset; neque in obiectis, sicut neque in entibus, cum sit unum primum ens, ut supra probatum est.\n"
     ]
    }
   ],
   "source": [
    "print(len(training_data))\n",
    "print(training_data[14])"
   ]
  },
  {
   "cell_type": "code",
   "execution_count": 7,
   "id": "c7854803-4960-4a80-a7e0-e0060559d820",
   "metadata": {
    "tags": []
   },
   "outputs": [],
   "source": [
    "from torch.utils.data import DataLoader\n",
    "from torch import nn\n",
    "from sentence_transformers import losses"
   ]
  },
  {
   "cell_type": "code",
   "execution_count": 8,
   "id": "6555393b-30dd-4ca0-ba39-da56eb274c56",
   "metadata": {
    "tags": []
   },
   "outputs": [],
   "source": [
    "word_embedding_model = models.Transformer(model_name_or_path=path_to_latin_bert, tokenizer_name_or_path=path_to_latin_bert_tokenizer, max_seq_length=256)\n",
    "pooling_model = models.Pooling(word_embedding_model.get_word_embedding_dimension())\n",
    "\n",
    "dense_model = models.Dense(\n",
    "    in_features=pooling_model.get_sentence_embedding_dimension(),\n",
    "    out_features=256,\n",
    "    activation_function=nn.Tanh(),\n",
    ")\n",
    "\n",
    "model = SentenceTransformer(modules=[word_embedding_model, pooling_model, dense_model], device=\"cuda\")"
   ]
  },
  {
   "cell_type": "code",
   "execution_count": null,
   "id": "56070d13-208c-4315-a6e1-4c2da2423537",
   "metadata": {
    "collapsed": true,
    "jupyter": {
     "outputs_hidden": true
    },
    "tags": []
   },
   "outputs": [],
   "source": [
    "# Define your train dataset, the dataloader and the train loss\n",
    "train_dataloader = DataLoader(training_data, shuffle=True, batch_size=16)\n",
    "train_loss = losses.CosineSimilarityLoss(model)\n",
    "\n",
    "# Tune the model\n",
    "model.fit(train_objectives=[(train_dataloader, train_loss)], epochs=1, warmup_steps=100,output_path=os.path.join(os.getcwd(),\"latin_sbert\"),save_best_model=True)"
   ]
  },
  {
   "cell_type": "code",
   "execution_count": 9,
   "id": "353f119b-21d0-46dd-9b73-f85651259565",
   "metadata": {
    "tags": []
   },
   "outputs": [
    {
     "name": "stdout",
     "output_type": "stream",
     "text": [
      "Filename                       | Amount used | Amount Skipped\n",
      "=============================================================\n",
      "la_udante-ud-dev.conllu        :       376.0 :            1.0\n",
      "la_udante-ud-test.conllu       :       419.0 :            0.0\n",
      "la_udante-ud-train.conllu      :       926.0 :            0.0\n",
      "la_ittb-ud-dev.conllu          :      2101.0 :          155.0\n",
      "la_ittb-ud-test.conllu         :      2101.0 :          232.0\n",
      "la_ittb-ud-train.conllu        :     22775.0 :         1668.0\n",
      "la_llct-ud-dev.conllu          :       850.0 :           98.0\n",
      "la_llct-ud-test.conllu         :       884.0 :          154.0\n",
      "la_llct-ud-train.conllu        :      7289.0 :         1115.0\n",
      "la_proiel-ud-dev.conllu        :      1233.0 :           14.0\n",
      "la_proiel-ud-test.conllu       :      1260.0 :           30.0\n",
      "la_proiel-ud-train.conllu      :     16196.0 :          758.0\n",
      "la_perseus-ud-test.conllu      :       939.0 :            4.0\n",
      "la_perseus-ud-train.conllu     :      1334.0 :           10.0\n",
      "=============================================================\n",
      "Total unique data : 54444 | filtered out 4239\n",
      "And the number of Conllus loaded : 54444\n",
      "=============================================================\n",
      "\n",
      "\n",
      "The Latin Age sentence distribution is as follows: \n",
      "{\n",
      "  \"Medieval\": 26642,\n",
      "  \"Late\": 8610,\n",
      "  \"Classical\": 19192\n",
      "}\n",
      "as a percentage:\n",
      "Medieval 0.4893468518110352\n",
      "Late 0.15814414811549482\n",
      "Classical 0.35250900007346997\n"
     ]
    }
   ],
   "source": [
    "authors_to_sents = data.load_data(os.path.join(os.getcwd(),\"data\"))"
   ]
  },
  {
   "cell_type": "markdown",
   "id": "f145e0af",
   "metadata": {},
   "source": [
    "# Training a Latin SBERT model\n",
    "This notebook details the training of the Latin SBERT model to produce historical sentence embeddings. \n",
    "* Details on training an SBERT model can be found here: https://www.sbert.net/docs/training/overview.html"
   ]
  },
  {
   "cell_type": "code",
   "execution_count": 10,
   "id": "e34ea853-727a-4f49-b94d-8731e4374fbf",
   "metadata": {
    "tags": []
   },
   "outputs": [],
   "source": [
    "sentences = [authors_to_sents[\"Caesar\"][31],authors_to_sents[\"Aquinas\"][31],authors_to_sents[\"Vergil\"][31],authors_to_sents[\"Late\"][31]]"
   ]
  },
  {
   "cell_type": "code",
   "execution_count": 11,
   "id": "6f69a65a-2132-41dd-a178-634235520985",
   "metadata": {
    "tags": []
   },
   "outputs": [],
   "source": [
    "embeddings = model.encode(sentences)"
   ]
  },
  {
   "cell_type": "code",
   "execution_count": 12,
   "id": "7dae8736-6670-478f-a8e5-4424825ec19f",
   "metadata": {
    "tags": []
   },
   "outputs": [],
   "source": [
    "from numpy import dot\n",
    "from numpy.linalg import norm\n",
    "def cos_sim(a,b):\n",
    "    return dot(a, b)/(norm(a)*norm(b))"
   ]
  },
  {
   "cell_type": "code",
   "execution_count": 13,
   "id": "ed5dce63-a7f5-4e56-98fb-c11550455618",
   "metadata": {
    "tags": []
   },
   "outputs": [
    {
     "name": "stdout",
     "output_type": "stream",
     "text": [
      "1.0000001\n",
      "0.0029459337\n",
      "0.8554757\n",
      "0.014914944\n"
     ]
    }
   ],
   "source": [
    "print(cos_sim(embeddings[0],embeddings[0]))\n",
    "print(cos_sim(embeddings[0],embeddings[1]))\n",
    "print(cos_sim(embeddings[0],embeddings[2]))\n",
    "print(cos_sim(embeddings[0],embeddings[3]))"
   ]
  },
  {
   "cell_type": "code",
   "execution_count": 14,
   "id": "ad6ca4ed-762c-470f-bedb-ae4bbb42f422",
   "metadata": {
    "tags": []
   },
   "outputs": [
    {
     "name": "stdout",
     "output_type": "stream",
     "text": [
      "0.0029459337\n",
      "1.0\n",
      "0.02229615\n",
      "0.0042465664\n"
     ]
    }
   ],
   "source": [
    "print(cos_sim(embeddings[1],embeddings[0]))\n",
    "print(cos_sim(embeddings[1],embeddings[1]))\n",
    "print(cos_sim(embeddings[1],embeddings[2]))\n",
    "print(cos_sim(embeddings[1],embeddings[3]))"
   ]
  },
  {
   "cell_type": "code",
   "execution_count": 15,
   "id": "a815485b-c262-4a09-ab81-0fb03c05433a",
   "metadata": {
    "tags": []
   },
   "outputs": [
    {
     "name": "stdout",
     "output_type": "stream",
     "text": [
      "0.8554757\n",
      "0.02229615\n",
      "1.0\n",
      "-0.0052479166\n"
     ]
    }
   ],
   "source": [
    "print(cos_sim(embeddings[2],embeddings[0]))\n",
    "print(cos_sim(embeddings[2],embeddings[1]))\n",
    "print(cos_sim(embeddings[2],embeddings[2]))\n",
    "print(cos_sim(embeddings[2],embeddings[3]))"
   ]
  },
  {
   "cell_type": "code",
   "execution_count": 16,
   "id": "8170c92b-f661-4041-8d71-c9525889dfd6",
   "metadata": {
    "tags": []
   },
   "outputs": [
    {
     "name": "stdout",
     "output_type": "stream",
     "text": [
      "0.014914944\n",
      "0.0042465664\n",
      "-0.0052479166\n",
      "0.9999999\n"
     ]
    }
   ],
   "source": [
    "print(cos_sim(embeddings[3],embeddings[0]))\n",
    "print(cos_sim(embeddings[3],embeddings[1]))\n",
    "print(cos_sim(embeddings[3],embeddings[2]))\n",
    "print(cos_sim(embeddings[3],embeddings[3]))"
   ]
  },
  {
   "cell_type": "code",
   "execution_count": 17,
   "id": "2841dd0c-a14d-47bd-920e-ea0fb987fda4",
   "metadata": {
    "tags": []
   },
   "outputs": [],
   "source": [
    "sentences = [authors_to_sents[\"Augustus\"][31],authors_to_sents[\"Dante\"][31],authors_to_sents[\"Aquinas\"][3],authors_to_sents[\"Petronius\"][31]]\n",
    "embeddings = model.encode(sentences)"
   ]
  },
  {
   "cell_type": "code",
   "execution_count": 18,
   "id": "c5862252-0f4d-4083-a357-d785a8138240",
   "metadata": {
    "tags": []
   },
   "outputs": [
    {
     "name": "stdout",
     "output_type": "stream",
     "text": [
      "1.0\n",
      "0.08341619\n",
      "0.021528477\n",
      "0.8574468\n"
     ]
    }
   ],
   "source": [
    "print(cos_sim(embeddings[0],embeddings[0]))\n",
    "print(cos_sim(embeddings[0],embeddings[1]))\n",
    "print(cos_sim(embeddings[0],embeddings[2]))\n",
    "print(cos_sim(embeddings[0],embeddings[3]))"
   ]
  },
  {
   "cell_type": "code",
   "execution_count": 19,
   "id": "a958708a-226f-420c-adb7-ed0e81f2f56d",
   "metadata": {
    "tags": []
   },
   "outputs": [
    {
     "name": "stdout",
     "output_type": "stream",
     "text": [
      "0.08341619\n",
      "1.0000001\n",
      "0.86723685\n",
      "0.070375375\n"
     ]
    }
   ],
   "source": [
    "print(cos_sim(embeddings[1],embeddings[0]))\n",
    "print(cos_sim(embeddings[1],embeddings[1]))\n",
    "print(cos_sim(embeddings[1],embeddings[2]))\n",
    "print(cos_sim(embeddings[1],embeddings[3]))"
   ]
  },
  {
   "cell_type": "code",
   "execution_count": 29,
   "id": "a4d6bbef-0f8e-4eec-b20a-6d511ef4f8eb",
   "metadata": {
    "tags": []
   },
   "outputs": [
    {
     "name": "stdout",
     "output_type": "stream",
     "text": [
      "0.012486738\n",
      "0.9772242\n",
      "1.0000001\n",
      "-0.018171074\n"
     ]
    }
   ],
   "source": [
    "print(cos_sim(embeddings[2],embeddings[0]))\n",
    "print(cos_sim(embeddings[2],embeddings[1]))\n",
    "print(cos_sim(embeddings[2],embeddings[2]))\n",
    "print(cos_sim(embeddings[2],embeddings[3]))"
   ]
  },
  {
   "cell_type": "code",
   "execution_count": 30,
   "id": "e79f3a26-6742-4096-b134-6a164ff7588b",
   "metadata": {
    "tags": []
   },
   "outputs": [
    {
     "name": "stdout",
     "output_type": "stream",
     "text": [
      "0.83942914\n",
      "-0.024533235\n",
      "-0.018171074\n",
      "1.0\n"
     ]
    }
   ],
   "source": [
    "print(cos_sim(embeddings[3],embeddings[0]))\n",
    "print(cos_sim(embeddings[3],embeddings[1]))\n",
    "print(cos_sim(embeddings[3],embeddings[2]))\n",
    "print(cos_sim(embeddings[3],embeddings[3]))"
   ]
  },
  {
   "cell_type": "code",
   "execution_count": 19,
   "id": "94d54cc0-6059-492f-bbd9-0cca76548045",
   "metadata": {
    "tags": []
   },
   "outputs": [],
   "source": [
    "sentences = [authors_to_sents[\"Palladius\"][31],authors_to_sents[\"Jerome\"][31],authors_to_sents[\"Aquinas\"][3],authors_to_sents[\"Sallust\"][31]]\n",
    "embeddings = model.encode(sentences)"
   ]
  },
  {
   "cell_type": "code",
   "execution_count": 20,
   "id": "aeef219d-7f27-4928-a7b6-289ad54cb5a9",
   "metadata": {
    "tags": []
   },
   "outputs": [
    {
     "name": "stdout",
     "output_type": "stream",
     "text": [
      "1.0\n",
      "0.0014461863\n",
      "-0.008164441\n",
      "-0.0048352256\n"
     ]
    }
   ],
   "source": [
    "print(cos_sim(embeddings[0],embeddings[0]))\n",
    "print(cos_sim(embeddings[0],embeddings[1]))\n",
    "print(cos_sim(embeddings[0],embeddings[2]))\n",
    "print(cos_sim(embeddings[0],embeddings[3]))"
   ]
  },
  {
   "cell_type": "code",
   "execution_count": 21,
   "id": "cf7f3473-db23-4aaf-8777-e32672d12fe2",
   "metadata": {
    "tags": []
   },
   "outputs": [
    {
     "name": "stdout",
     "output_type": "stream",
     "text": [
      "0.0014461863\n",
      "0.9999999\n",
      "-0.0036019385\n",
      "0.77770764\n"
     ]
    }
   ],
   "source": [
    "print(cos_sim(embeddings[1],embeddings[0]))\n",
    "print(cos_sim(embeddings[1],embeddings[1]))\n",
    "print(cos_sim(embeddings[1],embeddings[2]))\n",
    "print(cos_sim(embeddings[1],embeddings[3]))"
   ]
  },
  {
   "cell_type": "code",
   "execution_count": 22,
   "id": "14a83bfa-9581-452e-99e5-3725fa8998f4",
   "metadata": {
    "tags": []
   },
   "outputs": [
    {
     "name": "stdout",
     "output_type": "stream",
     "text": [
      "-0.008164441\n",
      "-0.0036019385\n",
      "1.0000001\n",
      "0.015339325\n"
     ]
    }
   ],
   "source": [
    "print(cos_sim(embeddings[2],embeddings[0]))\n",
    "print(cos_sim(embeddings[2],embeddings[1]))\n",
    "print(cos_sim(embeddings[2],embeddings[2]))\n",
    "print(cos_sim(embeddings[2],embeddings[3]))"
   ]
  },
  {
   "cell_type": "code",
   "execution_count": 24,
   "id": "3fb616e5-b5cb-4530-a0ce-b54440a18500",
   "metadata": {},
   "outputs": [
    {
     "name": "stdout",
     "output_type": "stream",
     "text": [
      "-0.0048352256\n",
      "0.77770764\n",
      "0.015339325\n",
      "1.0\n"
     ]
    }
   ],
   "source": [
    "print(cos_sim(embeddings[3],embeddings[0]))\n",
    "print(cos_sim(embeddings[3],embeddings[1]))\n",
    "print(cos_sim(embeddings[3],embeddings[2]))\n",
    "print(cos_sim(embeddings[3],embeddings[3]))"
   ]
  },
  {
   "cell_type": "markdown",
   "id": "1c486ad4-a970-42bc-9598-e1840da3a568",
   "metadata": {},
   "source": [
    "# Clustering the embeddings"
   ]
  },
  {
   "cell_type": "code",
   "execution_count": null,
   "id": "4bca5f86-9295-40d2-bf60-7fe2daa07748",
   "metadata": {
    "collapsed": true,
    "jupyter": {
     "outputs_hidden": true
    },
    "tags": []
   },
   "outputs": [],
   "source": [
    "!pip install umap-learn\n",
    "!pip install umap-learn[plot]"
   ]
  },
  {
   "cell_type": "markdown",
   "id": "0d71dd39-ae38-40d6-b751-e1cda4316a49",
   "metadata": {},
   "source": [
    "### load the model"
   ]
  },
  {
   "cell_type": "code",
   "execution_count": 10,
   "id": "6e3355ca-596a-4832-ab61-07ae0e348fcc",
   "metadata": {
    "tags": []
   },
   "outputs": [],
   "source": [
    "model = SentenceTransformer(\"./latin_sbert\")"
   ]
  },
  {
   "cell_type": "code",
   "execution_count": 11,
   "id": "9c418590-e560-4796-8277-881d8e3f4219",
   "metadata": {
    "tags": []
   },
   "outputs": [
    {
     "name": "stderr",
     "output_type": "stream",
     "text": [
      "/scratch/r.behr/llmdetect/detect_venv/lib/python3.11/site-packages/umap/plot.py:203: NumbaDeprecationWarning: \u001b[1mThe keyword argument 'nopython=False' was supplied. From Numba 0.59.0 the default is being changed to True and use of 'nopython=False' will raise a warning as the argument will have no effect. See https://numba.readthedocs.io/en/stable/reference/deprecation.html#deprecation-of-object-mode-fall-back-behaviour-when-using-jit for details.\u001b[0m\n",
      "  @numba.jit(nopython=False)\n"
     ]
    }
   ],
   "source": [
    "import umap.umap_ as umap\n",
    "import umap.plot\n",
    "%matplotlib inline\n",
    "from matplotlib import pyplot as plt\n",
    "import pandas as pd"
   ]
  },
  {
   "cell_type": "code",
   "execution_count": 12,
   "id": "48c610d0-72f8-4fa0-a97b-f26c1ee0e917",
   "metadata": {
    "tags": []
   },
   "outputs": [
    {
     "name": "stdout",
     "output_type": "stream",
     "text": [
      "Filename                       | Amount used | Amount Skipped\n",
      "=============================================================\n",
      "la_udante-ud-dev.conllu        :       376.0 :            1.0\n",
      "la_udante-ud-test.conllu       :       419.0 :            0.0\n",
      "la_udante-ud-train.conllu      :       926.0 :            0.0\n",
      "la_ittb-ud-dev.conllu          :      2101.0 :          155.0\n",
      "la_ittb-ud-test.conllu         :      2101.0 :          232.0\n",
      "la_ittb-ud-train.conllu        :     22775.0 :         1668.0\n",
      "la_llct-ud-dev.conllu          :       850.0 :           98.0\n",
      "la_llct-ud-test.conllu         :       884.0 :          154.0\n",
      "la_llct-ud-train.conllu        :      7289.0 :         1115.0\n",
      "la_proiel-ud-dev.conllu        :      1233.0 :           14.0\n",
      "la_proiel-ud-test.conllu       :      1260.0 :           30.0\n",
      "la_proiel-ud-train.conllu      :     16196.0 :          758.0\n",
      "la_perseus-ud-test.conllu      :       939.0 :            4.0\n",
      "la_perseus-ud-train.conllu     :      1334.0 :           10.0\n",
      "=============================================================\n",
      "Total unique data : 54444 | filtered out 4239\n",
      "=============================================================\n",
      "\n",
      "\n",
      "The Latin Age sentence distribution is as follows: \n",
      "{\n",
      "  \"Medieval\": 26642,\n",
      "  \"Late\": 8610,\n",
      "  \"Classical\": 19192\n",
      "}\n",
      "as a percentage:\n",
      "Medieval 0.4893468518110352\n",
      "Late 0.15814414811549482\n",
      "Classical 0.35250900007346997\n"
     ]
    },
    {
     "data": {
      "text/html": [
       "<div>\n",
       "<style scoped>\n",
       "    .dataframe tbody tr th:only-of-type {\n",
       "        vertical-align: middle;\n",
       "    }\n",
       "\n",
       "    .dataframe tbody tr th {\n",
       "        vertical-align: top;\n",
       "    }\n",
       "\n",
       "    .dataframe thead th {\n",
       "        text-align: right;\n",
       "    }\n",
       "</style>\n",
       "<table border=\"1\" class=\"dataframe\">\n",
       "  <thead>\n",
       "    <tr style=\"text-align: right;\">\n",
       "      <th></th>\n",
       "      <th>sent</th>\n",
       "      <th>author</th>\n",
       "      <th>age</th>\n",
       "      <th>conllus</th>\n",
       "    </tr>\n",
       "  </thead>\n",
       "  <tbody>\n",
       "    <tr>\n",
       "      <th>0</th>\n",
       "      <td>Reverendissimo in Christo patri dominorum suor...</td>\n",
       "      <td>Dante</td>\n",
       "      <td>Medieval</td>\n",
       "      <td>[{'id': 1, 'form': 'Reverendissimo', 'lemma': ...</td>\n",
       "    </tr>\n",
       "    <tr>\n",
       "      <th>1</th>\n",
       "      <td>Preceptis salutaribus moniti et Apostolica pie...</td>\n",
       "      <td>Dante</td>\n",
       "      <td>Medieval</td>\n",
       "      <td>[{'id': 1, 'form': 'Preceptis', 'lemma': 'prae...</td>\n",
       "    </tr>\n",
       "    <tr>\n",
       "      <th>2</th>\n",
       "      <td>Et si negligentie sontes aut ignavie censeremu...</td>\n",
       "      <td>Dante</td>\n",
       "      <td>Medieval</td>\n",
       "      <td>[{'id': 1, 'form': 'Et', 'lemma': 'et', 'upos'...</td>\n",
       "    </tr>\n",
       "    <tr>\n",
       "      <th>3</th>\n",
       "      <td>Ceu filii non ingrati litteras igitur pie vest...</td>\n",
       "      <td>Dante</td>\n",
       "      <td>Medieval</td>\n",
       "      <td>[{'id': 1, 'form': 'Ceu', 'lemma': 'ceu', 'upo...</td>\n",
       "    </tr>\n",
       "    <tr>\n",
       "      <th>4</th>\n",
       "      <td>Nam quam, fere pre desiderio sompniantes, inhi...</td>\n",
       "      <td>Dante</td>\n",
       "      <td>Medieval</td>\n",
       "      <td>[{'id': 1, 'form': 'Nam', 'lemma': 'nam', 'upo...</td>\n",
       "    </tr>\n",
       "  </tbody>\n",
       "</table>\n",
       "</div>"
      ],
      "text/plain": [
       "                                                sent author       age  \\\n",
       "0  Reverendissimo in Christo patri dominorum suor...  Dante  Medieval   \n",
       "1  Preceptis salutaribus moniti et Apostolica pie...  Dante  Medieval   \n",
       "2  Et si negligentie sontes aut ignavie censeremu...  Dante  Medieval   \n",
       "3  Ceu filii non ingrati litteras igitur pie vest...  Dante  Medieval   \n",
       "4  Nam quam, fere pre desiderio sompniantes, inhi...  Dante  Medieval   \n",
       "\n",
       "                                             conllus  \n",
       "0  [{'id': 1, 'form': 'Reverendissimo', 'lemma': ...  \n",
       "1  [{'id': 1, 'form': 'Preceptis', 'lemma': 'prae...  \n",
       "2  [{'id': 1, 'form': 'Et', 'lemma': 'et', 'upos'...  \n",
       "3  [{'id': 1, 'form': 'Ceu', 'lemma': 'ceu', 'upo...  \n",
       "4  [{'id': 1, 'form': 'Nam', 'lemma': 'nam', 'upo...  "
      ]
     },
     "execution_count": 12,
     "metadata": {},
     "output_type": "execute_result"
    }
   ],
   "source": [
    "sents_df = data.load_data(os.path.join(os.getcwd(),\"data\"),return_sents=True)\n",
    "sents_df.head()"
   ]
  },
  {
   "cell_type": "code",
   "execution_count": 13,
   "id": "df3a354a-39fc-4f0f-936d-a2402112da54",
   "metadata": {
    "tags": []
   },
   "outputs": [
    {
     "name": "stdout",
     "output_type": "stream",
     "text": [
      "0        Reverendissimo in Christo patri dominorum suor...\n",
      "1        Preceptis salutaribus moniti et Apostolica pie...\n",
      "2        Et si negligentie sontes aut ignavie censeremu...\n",
      "3        Ceu filii non ingrati litteras igitur pie vest...\n",
      "4        Nam quam, fere pre desiderio sompniantes, inhi...\n",
      "                               ...                        \n",
      "54439    Talibus adfata Aenean ( nec sacra morantur ius...\n",
      "54440    Excisum Euboicae latus ingens rupis in antrum,...\n",
      "54441                                              Cessas?\n",
      "54442    Neque enim ante dehiscent attonitae magna ora ...\n",
      "54443                             Et talia fata conticuit.\n",
      "Name: sent, Length: 54444, dtype: object\n"
     ]
    }
   ],
   "source": [
    "sents = sents_df.sent\n",
    "print(sents)"
   ]
  },
  {
   "cell_type": "code",
   "execution_count": 14,
   "id": "fb6059bd-aa42-4a7c-8e3c-4fa53fac86cc",
   "metadata": {
    "tags": []
   },
   "outputs": [],
   "source": [
    "sent_embeddings = model.encode(sents)"
   ]
  },
  {
   "cell_type": "code",
   "execution_count": 10,
   "id": "8322bba9-ed38-4003-ba6d-150efb82dee9",
   "metadata": {
    "tags": []
   },
   "outputs": [
    {
     "data": {
      "text/plain": [
       "54444"
      ]
     },
     "execution_count": 10,
     "metadata": {},
     "output_type": "execute_result"
    }
   ],
   "source": [
    "len(sent_embeddings)"
   ]
  },
  {
   "cell_type": "code",
   "execution_count": 15,
   "id": "00f79a35-8a94-4b37-8a6a-5557324c3675",
   "metadata": {
    "tags": []
   },
   "outputs": [],
   "source": [
    "umap_embedding = umap.UMAP(n_components=2, metric='cosine').fit(sent_embeddings)"
   ]
  },
  {
   "cell_type": "code",
   "execution_count": 16,
   "id": "ccc4e9fb-61f5-4036-92e3-6cefa6888937",
   "metadata": {
    "tags": []
   },
   "outputs": [
    {
     "data": {
      "text/plain": [
       "(54444, 2)"
      ]
     },
     "execution_count": 16,
     "metadata": {},
     "output_type": "execute_result"
    }
   ],
   "source": [
    "umap_embedding.embedding_.shape"
   ]
  },
  {
   "cell_type": "code",
   "execution_count": 35,
   "id": "779d2020-e6d2-40e6-94f7-f4290cc1b79c",
   "metadata": {
    "tags": []
   },
   "outputs": [
    {
     "data": {
      "image/png": "[encoded data removed]",
      "text/plain": [
       "<Figure size 500x500 with 1 Axes>"
      ]
     },
     "metadata": {},
     "output_type": "display_data"
    }
   ],
   "source": [
    "fig, ax = plt.subplots(figsize=(5,5))\n",
    "ax.set_title(\"Sentences Encoded by SBERT\")\n",
    "umap.plot.points(umap_embedding, labels=sents_df.age, ax=ax)\n",
    "plt.savefig(os.path.join(os.getcwd(),\"SBERT_umap_encodings.svg\"),format=\"svg\")"
   ]
  },
  {
   "cell_type": "code",
   "execution_count": 30,
   "id": "81048230-f407-45e4-a667-d85daf388640",
   "metadata": {},
   "outputs": [
    {
     "data": {
      "text/plain": [
       "<Figure size 640x480 with 0 Axes>"
      ]
     },
     "metadata": {},
     "output_type": "display_data"
    }
   ],
   "source": []
  },
  {
   "cell_type": "markdown",
   "id": "01eea3c3-81f7-470b-9c03-80fe2a45db76",
   "metadata": {},
   "source": [
    "## Plot the unseen test dataset"
   ]
  },
  {
   "cell_type": "code",
   "execution_count": 3,
   "id": "4ffd2919-c3ab-4a07-9e9e-0e3e65386cba",
   "metadata": {
    "tags": []
   },
   "outputs": [],
   "source": [
    "model = SentenceTransformer(\"./latin_sbert\")"
   ]
  },
  {
   "cell_type": "code",
   "execution_count": 5,
   "id": "0ce6e990-52c8-4539-90b5-f6345edbfaf3",
   "metadata": {
    "tags": []
   },
   "outputs": [
    {
     "name": "stdout",
     "output_type": "stream",
     "text": [
      "Filename                       | Amount used | Amount Skipped\n",
      "=============================================================\n",
      "la_udante-ud-dev.conllu        :       376.0 :            1.0\n",
      "la_udante-ud-test.conllu       :       419.0 :            0.0\n",
      "la_udante-ud-train.conllu      :       926.0 :            0.0\n",
      "la_ittb-ud-dev.conllu          :      2101.0 :          155.0\n",
      "la_ittb-ud-test.conllu         :      2101.0 :          232.0\n",
      "la_ittb-ud-train.conllu        :     22775.0 :         1668.0\n",
      "la_llct-ud-dev.conllu          :       850.0 :           98.0\n",
      "la_llct-ud-test.conllu         :       884.0 :          154.0\n",
      "la_llct-ud-train.conllu        :      7289.0 :         1115.0\n",
      "la_proiel-ud-dev.conllu        :      1233.0 :           14.0\n",
      "la_proiel-ud-test.conllu       :      1260.0 :           30.0\n",
      "la_proiel-ud-train.conllu      :     16196.0 :          758.0\n",
      "la_perseus-ud-test.conllu      :       939.0 :            4.0\n",
      "la_perseus-ud-train.conllu     :      1334.0 :           10.0\n",
      "EvaLatin_2024_poetry_test_data.conllu :       555.0 :            1.0\n",
      "EvaLatin_2024_prose-test-data.conllu :       299.0 :            0.0\n",
      "EvaLatin_2024_poetry_test_data-checkpoint.conllu :       555.0 :          555.0\n",
      "EvaLatin_2024_prose-test-data-checkpoint.conllu :       299.0 :          299.0\n",
      "=============================================================\n",
      "Total unique data : 55297 | filtered out 5094\n",
      "=============================================================\n",
      "\n",
      "\n",
      "The Latin Age sentence distribution is as follows: \n",
      "{\n",
      "  \"Medieval\": 26642,\n",
      "  \"Late\": 8610,\n",
      "  \"Classical\": 19192,\n",
      "  \"test\": 853\n",
      "}\n",
      "as a percentage:\n",
      "Medieval 0.4817982892381142\n",
      "Late 0.15570464943848672\n",
      "Classical 0.3470712696891332\n",
      "test 0.015425791634265874\n"
     ]
    },
    {
     "data": {
      "text/html": [
       "<div>\n",
       "<style scoped>\n",
       "    .dataframe tbody tr th:only-of-type {\n",
       "        vertical-align: middle;\n",
       "    }\n",
       "\n",
       "    .dataframe tbody tr th {\n",
       "        vertical-align: top;\n",
       "    }\n",
       "\n",
       "    .dataframe thead th {\n",
       "        text-align: right;\n",
       "    }\n",
       "</style>\n",
       "<table border=\"1\" class=\"dataframe\">\n",
       "  <thead>\n",
       "    <tr style=\"text-align: right;\">\n",
       "      <th></th>\n",
       "      <th>sent</th>\n",
       "      <th>author</th>\n",
       "      <th>age</th>\n",
       "      <th>conllus</th>\n",
       "    </tr>\n",
       "  </thead>\n",
       "  <tbody>\n",
       "    <tr>\n",
       "      <th>0</th>\n",
       "      <td>Reverendissimo in Christo patri dominorum suor...</td>\n",
       "      <td>Dante</td>\n",
       "      <td>Medieval</td>\n",
       "      <td>[{'id': 1, 'form': 'Reverendissimo', 'lemma': ...</td>\n",
       "    </tr>\n",
       "    <tr>\n",
       "      <th>1</th>\n",
       "      <td>Preceptis salutaribus moniti et Apostolica pie...</td>\n",
       "      <td>Dante</td>\n",
       "      <td>Medieval</td>\n",
       "      <td>[{'id': 1, 'form': 'Preceptis', 'lemma': 'prae...</td>\n",
       "    </tr>\n",
       "    <tr>\n",
       "      <th>2</th>\n",
       "      <td>Et si negligentie sontes aut ignavie censeremu...</td>\n",
       "      <td>Dante</td>\n",
       "      <td>Medieval</td>\n",
       "      <td>[{'id': 1, 'form': 'Et', 'lemma': 'et', 'upos'...</td>\n",
       "    </tr>\n",
       "    <tr>\n",
       "      <th>3</th>\n",
       "      <td>Ceu filii non ingrati litteras igitur pie vest...</td>\n",
       "      <td>Dante</td>\n",
       "      <td>Medieval</td>\n",
       "      <td>[{'id': 1, 'form': 'Ceu', 'lemma': 'ceu', 'upo...</td>\n",
       "    </tr>\n",
       "    <tr>\n",
       "      <th>4</th>\n",
       "      <td>Nam quam, fere pre desiderio sompniantes, inhi...</td>\n",
       "      <td>Dante</td>\n",
       "      <td>Medieval</td>\n",
       "      <td>[{'id': 1, 'form': 'Nam', 'lemma': 'nam', 'upo...</td>\n",
       "    </tr>\n",
       "  </tbody>\n",
       "</table>\n",
       "</div>"
      ],
      "text/plain": [
       "                                                sent author       age  \\\n",
       "0  Reverendissimo in Christo patri dominorum suor...  Dante  Medieval   \n",
       "1  Preceptis salutaribus moniti et Apostolica pie...  Dante  Medieval   \n",
       "2  Et si negligentie sontes aut ignavie censeremu...  Dante  Medieval   \n",
       "3  Ceu filii non ingrati litteras igitur pie vest...  Dante  Medieval   \n",
       "4  Nam quam, fere pre desiderio sompniantes, inhi...  Dante  Medieval   \n",
       "\n",
       "                                             conllus  \n",
       "0  [{'id': 1, 'form': 'Reverendissimo', 'lemma': ...  \n",
       "1  [{'id': 1, 'form': 'Preceptis', 'lemma': 'prae...  \n",
       "2  [{'id': 1, 'form': 'Et', 'lemma': 'et', 'upos'...  \n",
       "3  [{'id': 1, 'form': 'Ceu', 'lemma': 'ceu', 'upo...  \n",
       "4  [{'id': 1, 'form': 'Nam', 'lemma': 'nam', 'upo...  "
      ]
     },
     "execution_count": 5,
     "metadata": {},
     "output_type": "execute_result"
    }
   ],
   "source": [
    "sents_df = data.load_data(os.path.join(os.getcwd(),\"test_and_train_data\"),return_sents=True)\n",
    "sents_df.head()"
   ]
  },
  {
   "cell_type": "code",
   "execution_count": 6,
   "id": "f2ed5e11-a0a2-48d3-bc92-3bfae8c4ed90",
   "metadata": {
    "tags": []
   },
   "outputs": [
    {
     "name": "stdout",
     "output_type": "stream",
     "text": [
      "0        Reverendissimo in Christo patri dominorum suor...\n",
      "1        Preceptis salutaribus moniti et Apostolica pie...\n",
      "2        Et si negligentie sontes aut ignavie censeremu...\n",
      "3        Ceu filii non ingrati litteras igitur pie vest...\n",
      "4        Nam quam, fere pre desiderio sompniantes, inhi...\n",
      "                               ...                        \n",
      "55292    Fennis mira feritas foeda paupertas non arma n...\n",
      "55293    idemque uenatus uiros pariter ac feminas alit ...\n",
      "55294    nec aliud infantibus ferarum imbriumque suffug...\n",
      "55295    sed beatius arbitrantur quam ingemere agris il...\n",
      "55296    cetera iam fabulosa Hellusios et Oxionas ora h...\n",
      "Name: sent, Length: 55297, dtype: object\n"
     ]
    }
   ],
   "source": [
    "sents = sents_df.sent\n",
    "print(sents)"
   ]
  },
  {
   "cell_type": "code",
   "execution_count": 7,
   "id": "7e60894b-5bc0-436b-be53-f0fdd5c14095",
   "metadata": {
    "tags": []
   },
   "outputs": [],
   "source": [
    "sent_embeddings = model.encode(sents)"
   ]
  },
  {
   "cell_type": "code",
   "execution_count": 10,
   "id": "d368fe16-7414-489d-90cf-ea02a6d32903",
   "metadata": {
    "tags": []
   },
   "outputs": [
    {
     "data": {
      "text/plain": [
       "853"
      ]
     },
     "execution_count": 10,
     "metadata": {},
     "output_type": "execute_result"
    }
   ],
   "source": [
    "len(sent_embeddings)"
   ]
  },
  {
   "cell_type": "code",
   "execution_count": 10,
   "id": "c39bfda2-9b58-4c76-ab6c-08d896e5ae82",
   "metadata": {
    "tags": []
   },
   "outputs": [],
   "source": [
    "umap_embedding = umap.UMAP(n_components=2, metric='cosine').fit(sent_embeddings)"
   ]
  },
  {
   "cell_type": "code",
   "execution_count": 12,
   "id": "63bbf757-dc20-4eda-8017-70008c9539b6",
   "metadata": {
    "tags": []
   },
   "outputs": [
    {
     "data": {
      "text/plain": [
       "(853, 2)"
      ]
     },
     "execution_count": 12,
     "metadata": {},
     "output_type": "execute_result"
    }
   ],
   "source": [
    "umap_embedding.embedding_.shape"
   ]
  },
  {
   "cell_type": "code",
   "execution_count": 11,
   "id": "eb3d325c-d8e2-4ef8-b2dd-504f400ae012",
   "metadata": {
    "tags": []
   },
   "outputs": [
    {
     "data": {
      "image/png": "[encoded data removed]",
      "text/plain": [
       "<Figure size 800x800 with 1 Axes>"
      ]
     },
     "metadata": {},
     "output_type": "display_data"
    }
   ],
   "source": [
    "f = umap.plot.points(umap_embedding, labels=sents_df.age)"
   ]
  }
 ],
 "metadata": {
  "kernelspec": {
   "display_name": "Python 3 (ipykernel)",
   "language": "python",
   "name": "python3"
  },
  "language_info": {
   "codemirror_mode": {
    "name": "ipython",
    "version": 3
   },
   "file_extension": ".py",
   "mimetype": "text/x-python",
   "name": "python",
   "nbconvert_exporter": "python",
   "pygments_lexer": "ipython3",
   "version": "3.11.5"
  }
 },
 "nbformat": 4,
 "nbformat_minor": 5
}
